{
 "cells": [
  {
   "cell_type": "markdown",
   "metadata": {},
   "source": [
    "# Quantum Dice\n",
    "\n",
    "You are given several unusual 3-sided dice which, when rolled, show either 1, 2, or 3 spots.\n",
    "\n",
    "There are three games played iwth these dice: *Distinguishable*, *Bosons*, and *Fermioons*. In each of htese games, the player rolls one die at a time, starting over if requird by the rules, until a legal combination occurs. In *Distinguishable*, all rolls are legal. In *Bosons*, a roll is legal only if the new number is larger or equal to the preceding number. In *Fermions*, a roll is legal only if hte new number is strictly larger than the preceding number.\n",
    "\n",
    "See figure for table of possibilities after rolling two dice.\n",
    "\n",
    "Our dice rules ar ethe same ones that govern quantum statistics of identical particles."
   ]
  },
  {
   "cell_type": "code",
   "execution_count": 2,
   "metadata": {},
   "outputs": [],
   "source": [
    "import numpy as np\n",
    "import matplotlib.pyplot as plt\n",
    "import seaborn as sns\n",
    "import pandas as pd"
   ]
  },
  {
   "cell_type": "code",
   "execution_count": 4,
   "metadata": {},
   "outputs": [],
   "source": [
    "from numpy.random import randint\n",
    "from numpy.random import seed"
   ]
  },
  {
   "cell_type": "code",
   "execution_count": 6,
   "metadata": {},
   "outputs": [
    {
     "output_type": "stream",
     "name": "stdout",
     "text": [
      "Should see 3 True values:\nTrue\nTrue\nTrue\n"
     ]
    }
   ],
   "source": [
    "# Define classification functions\n",
    "\n",
    "def roll_is_dist(roll):\n",
    "    \"\"\"Return a boolean: can this roll outcome be classified as 'distinguishable'\n",
    "    \"\"\"\n",
    "    return True\n",
    "\n",
    "def roll_is_ferm(roll):\n",
    "    \"\"\"Return a boolean: can this roll outcome be classified as 'fermi'\n",
    "    \"\"\"\n",
    "    ndice = len(roll)\n",
    "    is_fermi = True\n",
    "    # Ensure that roll j+1 >= roll j\n",
    "    for j in range(len(roll)-1):\n",
    "        if(roll[j+1] <= roll[j]):\n",
    "            is_fermi = False\n",
    "            break\n",
    "    return is_fermi\n",
    "\n",
    "def roll_is_bos(roll):\n",
    "    \"\"\"Return a boolean: can this roll outcome be classified as 'boson'\n",
    "    \"\"\"\n",
    "    ndice = len(roll)\n",
    "    is_bos = True\n",
    "    # Ensure that roll j+1 > roll j\n",
    "    for j in range(len(roll)-1):\n",
    "        if(roll[j+1] < roll[j]):\n",
    "            is_bos = False\n",
    "            break\n",
    "    return is_bos\n",
    "\n",
    "print(\"Should see 3 True values:\")\n",
    "print(roll_is_dist(np.array([3,2,1])))\n",
    "print(roll_is_bos(np.array([1,1,2])))\n",
    "print(roll_is_ferm(np.array([1,2,3])))"
   ]
  },
  {
   "cell_type": "code",
   "execution_count": 8,
   "metadata": {},
   "outputs": [],
   "source": [
    "# Define roll functions\n",
    "\n",
    "def quantum_rolls(n, ndice, rolltype):\n",
    "    \"\"\"Roll ndice dice n times the game rolltype\n",
    "    \"\"\"\n",
    "    if(rolltype is 'dist' or rolltype is 'distinguishable'):\n",
    "        return dist_rolls(n, ndice)\n",
    "    elif(rolltype is 'ferm' or rolltype is 'fermion'):\n",
    "        return ferm_rolls(n, ndice)\n",
    "    elif(rolltype is 'bos' or rolltype is 'boson'):\n",
    "        return bos_rolls(n, ndice)\n",
    "    else:\n",
    "        raise Exception(\"Roll type not recognized: %s\"%(rolltype))\n",
    "    \n",
    "def dist_rolls(n, ndice):\n",
    "    \"\"\"Roll ndice dice n times for the game 'distinguishable'\n",
    "    \"\"\"\n",
    "    return randint(1, 3+1, size=(n,ndice))\n",
    "\n",
    "def ferm_rolls(n, ndice):\n",
    "    \"\"\"Roll ndice dice n times for the game 'fermi'\n",
    "    \"\"\"\n",
    "    if(ndice>3):\n",
    "        raise Exception(\"Error: max 3 dice, you specified %d\"%(ndice))\n",
    "    rolls = []\n",
    "    for i in range(n):\n",
    "        # Keep rolling until we get a 'fermi' roll\n",
    "        roll = randint(1, 3+1, size=(ndice,))\n",
    "        while(roll_is_ferm(roll) is False):\n",
    "            roll = randint(1, 3+1, size=(ndice,))\n",
    "        # Add it to list of rolls results\n",
    "        rolls.append(roll)\n",
    "    rolls = np.array(rolls)\n",
    "    return rolls\n",
    "\n",
    "def bos_rolls(n, ndice):\n",
    "    \"\"\"Roll ndice dice n times for the game 'boson'\n",
    "    \"\"\"\n",
    "    rolls = []\n",
    "    for i in range(n):\n",
    "        # Keep rolling until we get a 'boson' roll\n",
    "        roll = randint(1, 3+1, size=(ndice,))\n",
    "        while(roll_is_bos(roll) is False):\n",
    "            roll = randint(1, 3+1, size=(ndice,))\n",
    "        # Add it to the list of rolls results\n",
    "        rolls.append(roll)\n",
    "    rolls = np.array(rolls)\n",
    "    return rolls"
   ]
  },
  {
   "cell_type": "code",
   "execution_count": 10,
   "metadata": {
    "scrolled": true
   },
   "outputs": [
    {
     "output_type": "execute_result",
     "data": {
      "text/plain": [
       "array([[2, 3, 2],\n",
       "       [2, 2, 2],\n",
       "       [1, 2, 3],\n",
       "       [2, 1, 1],\n",
       "       [1, 1, 3]])"
      ]
     },
     "metadata": {},
     "execution_count": 10
    }
   ],
   "source": [
    "quantum_rolls(5, 3, 'dist')"
   ]
  },
  {
   "cell_type": "code",
   "execution_count": 12,
   "metadata": {},
   "outputs": [
    {
     "output_type": "execute_result",
     "data": {
      "text/plain": [
       "array([[3, 3, 3],\n",
       "       [1, 2, 3],\n",
       "       [1, 1, 2],\n",
       "       [3, 3, 3],\n",
       "       [2, 2, 2]])"
      ]
     },
     "metadata": {},
     "execution_count": 12
    }
   ],
   "source": [
    "quantum_rolls(5, 3, 'bos')"
   ]
  },
  {
   "cell_type": "code",
   "execution_count": 14,
   "metadata": {},
   "outputs": [
    {
     "output_type": "execute_result",
     "data": {
      "text/plain": [
       "array([[1, 3],\n",
       "       [1, 3],\n",
       "       [1, 2],\n",
       "       [1, 2],\n",
       "       [2, 3]])"
      ]
     },
     "metadata": {},
     "execution_count": 14
    }
   ],
   "source": [
    "quantum_rolls(5, 2, 'ferm')"
   ]
  },
  {
   "cell_type": "code",
   "execution_count": 16,
   "metadata": {},
   "outputs": [],
   "source": [
    "# Define score functions\n",
    "\n",
    "def get_outcomes():\n",
    "    return np.array([[2,3,4],[3,4,5],[4,5,6]])\n",
    "\n",
    "def roll_dice(n):\n",
    "    return randint(1,3+1,size=(n,3))\n",
    "\n",
    "def dist_score_outcomes(roll1,roll2):\n",
    "    return get_outcomes()[roll1-1][roll2-1]\n",
    "\n",
    "def bos_score_outcomes(roll1,roll2):\n",
    "    if(roll1 <= roll2):\n",
    "        return get_outcomes()[roll1-1][roll2-1]\n",
    "    else:\n",
    "        return 0\n",
    "\n",
    "def ferm_score_outcomes(roll1,roll2):\n",
    "    if(roll1 < roll2):\n",
    "        return get_outcomes()[roll1-1][roll2-1]\n",
    "    else:\n",
    "        return 0\n",
    "\n",
    "def score_rolls(rolls, rolltype):\n",
    "    if(rolltype is 'dist' or rolltype is 'distinguishable'):\n",
    "        score_outcomes = dist_score_outcomes\n",
    "    elif(rolltype is 'bos' or rolltype is 'boson'):\n",
    "        score_outcomes = bos_score_outcomes\n",
    "    elif(rolltype is 'ferm' or rolltype is 'fermion'):\n",
    "        score_outcomes = ferm_score_outcomes\n",
    "    else:\n",
    "        raise Exception(\"Roll type not recognized: %s\"%(rolltype))\n",
    "    \n",
    "    total_score = np.zeros(len(rolls),)\n",
    "    for i in range(len(rolls)):\n",
    "        roll = rolls[i,:]\n",
    "        for j in range(len(roll)-1):\n",
    "            total_score[i] += score_outcomes(roll[j], roll[j+1])\n",
    "\n",
    "    return total_score"
   ]
  },
  {
   "cell_type": "code",
   "execution_count": 18,
   "metadata": {},
   "outputs": [
    {
     "output_type": "stream",
     "name": "stdout",
     "text": [
      "[6. 9. 6. 6. 9.]\n"
     ]
    }
   ],
   "source": [
    "t = 'dist'\n",
    "r = quantum_rolls(5, 3, t)\n",
    "print(score_rolls(r, t))"
   ]
  },
  {
   "cell_type": "code",
   "execution_count": 20,
   "metadata": {},
   "outputs": [
    {
     "output_type": "stream",
     "name": "stdout",
     "text": [
      "[ 7.  8.  6. 12.  8.]\n"
     ]
    }
   ],
   "source": [
    "t = 'bos'\n",
    "r = quantum_rolls(5, 3, t)\n",
    "print(score_rolls(r, t))"
   ]
  },
  {
   "cell_type": "code",
   "execution_count": 22,
   "metadata": {},
   "outputs": [
    {
     "output_type": "stream",
     "name": "stdout",
     "text": [
      "[8. 8. 8. 8. 8.]\n"
     ]
    }
   ],
   "source": [
    "t = 'ferm'\n",
    "r = quantum_rolls(5, 3, t)\n",
    "print(score_rolls(r, t))"
   ]
  },
  {
   "cell_type": "code",
   "execution_count": 24,
   "metadata": {},
   "outputs": [
    {
     "output_type": "stream",
     "name": "stdout",
     "text": [
      "[3. 4. 6. 5. 5.]\n"
     ]
    }
   ],
   "source": [
    "t = 'dist'\n",
    "r = quantum_rolls(5, 2, t)\n",
    "print(score_rolls(r, t))"
   ]
  },
  {
   "cell_type": "markdown",
   "metadata": {},
   "source": [
    "## Part A\n",
    "\n",
    "Presuming fair dice (each of the faces has a 1/3 chance of appearing)...\n",
    "\n",
    "For a legal turn rolling two dice in Bosons, what is probability $\\rho(4)$ of rolling a 4?\n",
    "\n",
    "For a legal turn rolling two dice in Fermion, what is probability $\\rho(4)$ of rolling a 4?"
   ]
  },
  {
   "cell_type": "code",
   "execution_count": 26,
   "metadata": {},
   "outputs": [
    {
     "output_type": "stream",
     "name": "stdout",
     "text": [
      "Rho(4) for Boson: 2 / 6 = 0.3333\nRho(4) for Fermion: 1 / 3 = 0.3333\n"
     ]
    }
   ],
   "source": [
    "# Analytical calculation:\n",
    "\n",
    "o = get_outcomes()\n",
    "\n",
    "bos_n4 = 2\n",
    "ferm_n4 = 1\n",
    "\n",
    "bos_sum = 0\n",
    "ferm_sum = 0\n",
    "for i in range(o.shape[0]):\n",
    "    for j in range(o.shape[1]):\n",
    "        if(i <= j):\n",
    "            bos_sum += 1\n",
    "        if(i < j):\n",
    "            ferm_sum += 1\n",
    "\n",
    "print(\"Rho(4) for Boson: %d / %d = %0.4f\"%(bos_n4, bos_sum, bos_n4/bos_sum))\n",
    "print(\"Rho(4) for Fermion: %d / %d = %0.4f\"%(ferm_n4, ferm_sum, ferm_n4/ferm_sum))"
   ]
  },
  {
   "cell_type": "code",
   "execution_count": 28,
   "metadata": {},
   "outputs": [
    {
     "output_type": "stream",
     "name": "stdout",
     "text": [
      "Rho(4) for Boson: 3285 / 10000 = 0.3285\nRho(4) for Boson: 3305 / 10000 = 0.3305\n"
     ]
    }
   ],
   "source": [
    "# Computational verification:\n",
    "\n",
    "total = 10000\n",
    "\n",
    "rf = quantum_rolls(total, 2, 'ferm')\n",
    "rb = quantum_rolls(total, 2, 'bos')\n",
    "\n",
    "def is_four(roll):\n",
    "    if(roll[0]+roll[1]==4):\n",
    "        return True\n",
    "    return False\n",
    "\n",
    "bos_n4_comp = np.sum(np.apply_along_axis(arr=rb, func1d=is_four, axis=1))\n",
    "print(\"Rho(4) for Boson: %d / %d = %0.4f\"%(bos_n4_comp, total, bos_n4_comp/total))\n",
    "\n",
    "ferm_n4_comp = np.sum(np.apply_along_axis(arr=rf, func1d=is_four, axis=1))\n",
    "print(\"Rho(4) for Boson: %d / %d = %0.4f\"%(ferm_n4_comp, total, ferm_n4_comp/total))"
   ]
  },
  {
   "cell_type": "markdown",
   "metadata": {},
   "source": [
    "## Part B\n",
    "\n",
    "For a legal turn rolling 3 different 3-sided dice in Fermions, what is probability $\\rho(6)$ of rolling a 6?\n",
    "\n",
    "(The answer is trivial: the only 3-dice outcome for \"Fermions\" is a 6.)"
   ]
  },
  {
   "cell_type": "markdown",
   "metadata": {},
   "source": [
    "## Part C\n",
    "\n",
    "In a turn of three rolls, what is the factor by which the probability of getting triples in \"Bosons\" is enhanced over that in \"Distinguishable\"?"
   ]
  },
  {
   "cell_type": "code",
   "execution_count": 30,
   "metadata": {},
   "outputs": [],
   "source": [
    "def count_identical(rolll):\n",
    "    identical = 0\n",
    "    for i in range(len(rolll)):\n",
    "        if(len(np.unique(rolll[i][:]))==1):\n",
    "            identical += 1\n",
    "    return identical"
   ]
  },
  {
   "cell_type": "code",
   "execution_count": 32,
   "metadata": {},
   "outputs": [
    {
     "output_type": "stream",
     "name": "stdout",
     "text": [
      "Rho(triples) for Dist: 1068 / 10000 = 0.1068\n",
      "Rho(triples) for Boson: 2999 / 10000 = 0.2999\n"
     ]
    }
   ],
   "source": [
    "n = 10000\n",
    "\n",
    "t = 'dist'\n",
    "r = quantum_rolls(n, 3, t)\n",
    "dist_nt_comp = count_identical(r)\n",
    "print(\"Rho(triples) for Dist: %d / %d = %0.4f\"%(dist_nt_comp, n, dist_nt_comp/n))\n",
    "\n",
    "t = 'bos'\n",
    "r = quantum_rolls(n, 3, t)\n",
    "bos_nt_comp = count_identical(r)\n",
    "print(\"Rho(triples) for Boson: %d / %d = %0.4f\"%(bos_nt_comp, n, bos_nt_comp/n))"
   ]
  },
  {
   "cell_type": "markdown",
   "metadata": {},
   "source": [
    "In a turn of M rolls, what is the enhancement factor for generating an M-tuple (all rolls having same number of dots showing)?"
   ]
  },
  {
   "cell_type": "code",
   "execution_count": 34,
   "metadata": {},
   "outputs": [
    {
     "output_type": "stream",
     "name": "stdout",
     "text": [
      "Number of dice = 2\n",
      "Rho(triples) for Dist: 3224 / 10000 = 0.3224\n",
      "Rho(triples) for Boson: 5001 / 10000 = 0.5001\n",
      "\n",
      "Number of dice = 3\n",
      "Rho(triples) for Dist: 1051 / 10000 = 0.1051\n",
      "Rho(triples) for Boson: 2969 / 10000 = 0.2969\n",
      "\n",
      "Number of dice = 4\n",
      "Rho(triples) for Dist: 355 / 10000 = 0.0355\n",
      "Rho(triples) for Boson: 2012 / 10000 = 0.2012\n",
      "\n",
      "Number of dice = 5\n",
      "Rho(triples) for Dist: 140 / 10000 = 0.0140\n",
      "Rho(triples) for Boson: 1421 / 10000 = 0.1421\n",
      "\n",
      "Number of dice = 6\n",
      "Rho(triples) for Dist: 38 / 10000 = 0.0038\n",
      "Rho(triples) for Boson: 1069 / 10000 = 0.1069\n",
      "\n",
      "Number of dice = 7\n",
      "Rho(triples) for Dist: 14 / 10000 = 0.0014\n",
      "Rho(triples) for Boson: 854 / 10000 = 0.0854\n",
      "\n"
     ]
    }
   ],
   "source": [
    "xx = []\n",
    "dist_yy = []\n",
    "bos_yy = []\n",
    "for m in range(2,8):\n",
    "    n = 10000\n",
    "    \n",
    "    xx.append(m)\n",
    "    print(\"Number of dice = %d\"%(m))\n",
    "\n",
    "    t = 'dist'\n",
    "    r = quantum_rolls(n, m, t)\n",
    "    dist_nt_comp = count_identical(r)\n",
    "    ratio = dist_nt_comp/n\n",
    "    print(\"Rho(triples) for Dist: %d / %d = %0.4f\"%(dist_nt_comp, n, ratio))\n",
    "    dist_yy.append(ratio)\n",
    "    \n",
    "    t = 'bos'\n",
    "    r = quantum_rolls(n, m, t)\n",
    "    bos_nt_comp = count_identical(r)\n",
    "    ratio = bos_nt_comp/n\n",
    "    print(\"Rho(triples) for Boson: %d / %d = %0.4f\"%(bos_nt_comp, n, ratio))\n",
    "    bos_yy.append(ratio)\n",
    "    \n",
    "    print()\n",
    "\n",
    "xx = np.array(xx)\n",
    "dist_yy = np.array(dist_yy)\n",
    "bos_yy = np.array(bos_yy)"
   ]
  },
  {
   "cell_type": "code",
   "execution_count": 36,
   "metadata": {},
   "outputs": [
    {
     "output_type": "display_data",
     "data": {
      "text/plain": "<Figure size 864x288 with 2 Axes>",
      "image/svg+xml": "<?xml version=\"1.0\" encoding=\"utf-8\" standalone=\"no\"?>\n<!DOCTYPE svg PUBLIC \"-//W3C//DTD SVG 1.1//EN\"\n  \"http://www.w3.org/Graphics/SVG/1.1/DTD/svg11.dtd\">\n<!-- Created with matplotlib (https://matplotlib.org/) -->\n<svg height=\"279.17pt\" version=\"1.1\" viewBox=\"0 0 720.58125 279.17\" width=\"720.58125pt\" xmlns=\"http://www.w3.org/2000/svg\" xmlns:xlink=\"http://www.w3.org/1999/xlink\">\n <metadata>\n  <rdf:RDF xmlns:cc=\"http://creativecommons.org/ns#\" xmlns:dc=\"http://purl.org/dc/elements/1.1/\" xmlns:rdf=\"http://www.w3.org/1999/02/22-rdf-syntax-ns#\">\n   <cc:Work>\n    <dc:type rdf:resource=\"http://purl.org/dc/dcmitype/StillImage\"/>\n    <dc:date>2020-12-19T21:26:30.448120</dc:date>\n    <dc:format>image/svg+xml</dc:format>\n    <dc:creator>\n     <cc:Agent>\n      <dc:title>Matplotlib v3.3.2, https://matplotlib.org/</dc:title>\n     </cc:Agent>\n    </dc:creator>\n   </cc:Work>\n  </rdf:RDF>\n </metadata>\n <defs>\n  <style type=\"text/css\">*{stroke-linecap:butt;stroke-linejoin:round;}</style>\n </defs>\n <g id=\"figure_1\">\n  <g id=\"patch_1\">\n   <path d=\"M 0 279.17 \nL 720.58125 279.17 \nL 720.58125 0 \nL 0 0 \nz\n\" style=\"fill:none;\"/>\n  </g>\n  <g id=\"axes_1\">\n   <g id=\"patch_2\">\n    <path d=\"M 43.78125 241.61375 \nL 348.144886 241.61375 \nL 348.144886 24.17375 \nL 43.78125 24.17375 \nz\n\" style=\"fill:#ffffff;\"/>\n   </g>\n   <g id=\"matplotlib.axis_1\">\n    <g id=\"xtick_1\">\n     <g id=\"line2d_1\">\n      <defs>\n       <path d=\"M 0 0 \nL 0 3.5 \n\" id=\"m265c518012\" style=\"stroke:#000000;stroke-width:0.8;\"/>\n      </defs>\n      <g>\n       <use style=\"stroke:#000000;stroke-width:0.8;\" x=\"57.615961\" xlink:href=\"#m265c518012\" y=\"241.61375\"/>\n      </g>\n     </g>\n     <g id=\"text_1\">\n      <!-- 2 -->\n      <g transform=\"translate(54.434711 256.212187)scale(0.1 -0.1)\">\n       <defs>\n        <path d=\"M 19.1875 8.296875 \nL 53.609375 8.296875 \nL 53.609375 0 \nL 7.328125 0 \nL 7.328125 8.296875 \nQ 12.9375 14.109375 22.625 23.890625 \nQ 32.328125 33.6875 34.8125 36.53125 \nQ 39.546875 41.84375 41.421875 45.53125 \nQ 43.3125 49.21875 43.3125 52.78125 \nQ 43.3125 58.59375 39.234375 62.25 \nQ 35.15625 65.921875 28.609375 65.921875 \nQ 23.96875 65.921875 18.8125 64.3125 \nQ 13.671875 62.703125 7.8125 59.421875 \nL 7.8125 69.390625 \nQ 13.765625 71.78125 18.9375 73 \nQ 24.125 74.21875 28.421875 74.21875 \nQ 39.75 74.21875 46.484375 68.546875 \nQ 53.21875 62.890625 53.21875 53.421875 \nQ 53.21875 48.921875 51.53125 44.890625 \nQ 49.859375 40.875 45.40625 35.40625 \nQ 44.1875 33.984375 37.640625 27.21875 \nQ 31.109375 20.453125 19.1875 8.296875 \nz\n\" id=\"DejaVuSans-50\"/>\n       </defs>\n       <use xlink:href=\"#DejaVuSans-50\"/>\n      </g>\n     </g>\n    </g>\n    <g id=\"xtick_2\">\n     <g id=\"line2d_2\">\n      <g>\n       <use style=\"stroke:#000000;stroke-width:0.8;\" x=\"112.954804\" xlink:href=\"#m265c518012\" y=\"241.61375\"/>\n      </g>\n     </g>\n     <g id=\"text_2\">\n      <!-- 3 -->\n      <g transform=\"translate(109.773554 256.212187)scale(0.1 -0.1)\">\n       <defs>\n        <path d=\"M 40.578125 39.3125 \nQ 47.65625 37.796875 51.625 33 \nQ 55.609375 28.21875 55.609375 21.1875 \nQ 55.609375 10.40625 48.1875 4.484375 \nQ 40.765625 -1.421875 27.09375 -1.421875 \nQ 22.515625 -1.421875 17.65625 -0.515625 \nQ 12.796875 0.390625 7.625 2.203125 \nL 7.625 11.71875 \nQ 11.71875 9.328125 16.59375 8.109375 \nQ 21.484375 6.890625 26.8125 6.890625 \nQ 36.078125 6.890625 40.9375 10.546875 \nQ 45.796875 14.203125 45.796875 21.1875 \nQ 45.796875 27.640625 41.28125 31.265625 \nQ 36.765625 34.90625 28.71875 34.90625 \nL 20.21875 34.90625 \nL 20.21875 43.015625 \nL 29.109375 43.015625 \nQ 36.375 43.015625 40.234375 45.921875 \nQ 44.09375 48.828125 44.09375 54.296875 \nQ 44.09375 59.90625 40.109375 62.90625 \nQ 36.140625 65.921875 28.71875 65.921875 \nQ 24.65625 65.921875 20.015625 65.03125 \nQ 15.375 64.15625 9.8125 62.3125 \nL 9.8125 71.09375 \nQ 15.4375 72.65625 20.34375 73.4375 \nQ 25.25 74.21875 29.59375 74.21875 \nQ 40.828125 74.21875 47.359375 69.109375 \nQ 53.90625 64.015625 53.90625 55.328125 \nQ 53.90625 49.265625 50.4375 45.09375 \nQ 46.96875 40.921875 40.578125 39.3125 \nz\n\" id=\"DejaVuSans-51\"/>\n       </defs>\n       <use xlink:href=\"#DejaVuSans-51\"/>\n      </g>\n     </g>\n    </g>\n    <g id=\"xtick_3\">\n     <g id=\"line2d_3\">\n      <g>\n       <use style=\"stroke:#000000;stroke-width:0.8;\" x=\"168.293647\" xlink:href=\"#m265c518012\" y=\"241.61375\"/>\n      </g>\n     </g>\n     <g id=\"text_3\">\n      <!-- 4 -->\n      <g transform=\"translate(165.112397 256.212187)scale(0.1 -0.1)\">\n       <defs>\n        <path d=\"M 37.796875 64.3125 \nL 12.890625 25.390625 \nL 37.796875 25.390625 \nz\nM 35.203125 72.90625 \nL 47.609375 72.90625 \nL 47.609375 25.390625 \nL 58.015625 25.390625 \nL 58.015625 17.1875 \nL 47.609375 17.1875 \nL 47.609375 0 \nL 37.796875 0 \nL 37.796875 17.1875 \nL 4.890625 17.1875 \nL 4.890625 26.703125 \nz\n\" id=\"DejaVuSans-52\"/>\n       </defs>\n       <use xlink:href=\"#DejaVuSans-52\"/>\n      </g>\n     </g>\n    </g>\n    <g id=\"xtick_4\">\n     <g id=\"line2d_4\">\n      <g>\n       <use style=\"stroke:#000000;stroke-width:0.8;\" x=\"223.63249\" xlink:href=\"#m265c518012\" y=\"241.61375\"/>\n      </g>\n     </g>\n     <g id=\"text_4\">\n      <!-- 5 -->\n      <g transform=\"translate(220.45124 256.212187)scale(0.1 -0.1)\">\n       <defs>\n        <path d=\"M 10.796875 72.90625 \nL 49.515625 72.90625 \nL 49.515625 64.59375 \nL 19.828125 64.59375 \nL 19.828125 46.734375 \nQ 21.96875 47.46875 24.109375 47.828125 \nQ 26.265625 48.1875 28.421875 48.1875 \nQ 40.625 48.1875 47.75 41.5 \nQ 54.890625 34.8125 54.890625 23.390625 \nQ 54.890625 11.625 47.5625 5.09375 \nQ 40.234375 -1.421875 26.90625 -1.421875 \nQ 22.3125 -1.421875 17.546875 -0.640625 \nQ 12.796875 0.140625 7.71875 1.703125 \nL 7.71875 11.625 \nQ 12.109375 9.234375 16.796875 8.0625 \nQ 21.484375 6.890625 26.703125 6.890625 \nQ 35.15625 6.890625 40.078125 11.328125 \nQ 45.015625 15.765625 45.015625 23.390625 \nQ 45.015625 31 40.078125 35.4375 \nQ 35.15625 39.890625 26.703125 39.890625 \nQ 22.75 39.890625 18.8125 39.015625 \nQ 14.890625 38.140625 10.796875 36.28125 \nz\n\" id=\"DejaVuSans-53\"/>\n       </defs>\n       <use xlink:href=\"#DejaVuSans-53\"/>\n      </g>\n     </g>\n    </g>\n    <g id=\"xtick_5\">\n     <g id=\"line2d_5\">\n      <g>\n       <use style=\"stroke:#000000;stroke-width:0.8;\" x=\"278.971333\" xlink:href=\"#m265c518012\" y=\"241.61375\"/>\n      </g>\n     </g>\n     <g id=\"text_5\">\n      <!-- 6 -->\n      <g transform=\"translate(275.790083 256.212187)scale(0.1 -0.1)\">\n       <defs>\n        <path d=\"M 33.015625 40.375 \nQ 26.375 40.375 22.484375 35.828125 \nQ 18.609375 31.296875 18.609375 23.390625 \nQ 18.609375 15.53125 22.484375 10.953125 \nQ 26.375 6.390625 33.015625 6.390625 \nQ 39.65625 6.390625 43.53125 10.953125 \nQ 47.40625 15.53125 47.40625 23.390625 \nQ 47.40625 31.296875 43.53125 35.828125 \nQ 39.65625 40.375 33.015625 40.375 \nz\nM 52.59375 71.296875 \nL 52.59375 62.3125 \nQ 48.875 64.0625 45.09375 64.984375 \nQ 41.3125 65.921875 37.59375 65.921875 \nQ 27.828125 65.921875 22.671875 59.328125 \nQ 17.53125 52.734375 16.796875 39.40625 \nQ 19.671875 43.65625 24.015625 45.921875 \nQ 28.375 48.1875 33.59375 48.1875 \nQ 44.578125 48.1875 50.953125 41.515625 \nQ 57.328125 34.859375 57.328125 23.390625 \nQ 57.328125 12.15625 50.6875 5.359375 \nQ 44.046875 -1.421875 33.015625 -1.421875 \nQ 20.359375 -1.421875 13.671875 8.265625 \nQ 6.984375 17.96875 6.984375 36.375 \nQ 6.984375 53.65625 15.1875 63.9375 \nQ 23.390625 74.21875 37.203125 74.21875 \nQ 40.921875 74.21875 44.703125 73.484375 \nQ 48.484375 72.75 52.59375 71.296875 \nz\n\" id=\"DejaVuSans-54\"/>\n       </defs>\n       <use xlink:href=\"#DejaVuSans-54\"/>\n      </g>\n     </g>\n    </g>\n    <g id=\"xtick_6\">\n     <g id=\"line2d_6\">\n      <g>\n       <use style=\"stroke:#000000;stroke-width:0.8;\" x=\"334.310176\" xlink:href=\"#m265c518012\" y=\"241.61375\"/>\n      </g>\n     </g>\n     <g id=\"text_6\">\n      <!-- 7 -->\n      <g transform=\"translate(331.128926 256.212187)scale(0.1 -0.1)\">\n       <defs>\n        <path d=\"M 8.203125 72.90625 \nL 55.078125 72.90625 \nL 55.078125 68.703125 \nL 28.609375 0 \nL 18.3125 0 \nL 43.21875 64.59375 \nL 8.203125 64.59375 \nz\n\" id=\"DejaVuSans-55\"/>\n       </defs>\n       <use xlink:href=\"#DejaVuSans-55\"/>\n      </g>\n     </g>\n    </g>\n    <g id=\"text_7\">\n     <!-- Number of dice M -->\n     <g transform=\"translate(151.587287 269.890312)scale(0.1 -0.1)\">\n      <defs>\n       <path d=\"M 9.8125 72.90625 \nL 23.09375 72.90625 \nL 55.421875 11.921875 \nL 55.421875 72.90625 \nL 64.984375 72.90625 \nL 64.984375 0 \nL 51.703125 0 \nL 19.390625 60.984375 \nL 19.390625 0 \nL 9.8125 0 \nz\n\" id=\"DejaVuSans-78\"/>\n       <path d=\"M 8.5 21.578125 \nL 8.5 54.6875 \nL 17.484375 54.6875 \nL 17.484375 21.921875 \nQ 17.484375 14.15625 20.5 10.265625 \nQ 23.53125 6.390625 29.59375 6.390625 \nQ 36.859375 6.390625 41.078125 11.03125 \nQ 45.3125 15.671875 45.3125 23.6875 \nL 45.3125 54.6875 \nL 54.296875 54.6875 \nL 54.296875 0 \nL 45.3125 0 \nL 45.3125 8.40625 \nQ 42.046875 3.421875 37.71875 1 \nQ 33.40625 -1.421875 27.6875 -1.421875 \nQ 18.265625 -1.421875 13.375 4.4375 \nQ 8.5 10.296875 8.5 21.578125 \nz\nM 31.109375 56 \nz\n\" id=\"DejaVuSans-117\"/>\n       <path d=\"M 52 44.1875 \nQ 55.375 50.25 60.0625 53.125 \nQ 64.75 56 71.09375 56 \nQ 79.640625 56 84.28125 50.015625 \nQ 88.921875 44.046875 88.921875 33.015625 \nL 88.921875 0 \nL 79.890625 0 \nL 79.890625 32.71875 \nQ 79.890625 40.578125 77.09375 44.375 \nQ 74.3125 48.1875 68.609375 48.1875 \nQ 61.625 48.1875 57.5625 43.546875 \nQ 53.515625 38.921875 53.515625 30.90625 \nL 53.515625 0 \nL 44.484375 0 \nL 44.484375 32.71875 \nQ 44.484375 40.625 41.703125 44.40625 \nQ 38.921875 48.1875 33.109375 48.1875 \nQ 26.21875 48.1875 22.15625 43.53125 \nQ 18.109375 38.875 18.109375 30.90625 \nL 18.109375 0 \nL 9.078125 0 \nL 9.078125 54.6875 \nL 18.109375 54.6875 \nL 18.109375 46.1875 \nQ 21.1875 51.21875 25.484375 53.609375 \nQ 29.78125 56 35.6875 56 \nQ 41.65625 56 45.828125 52.96875 \nQ 50 49.953125 52 44.1875 \nz\n\" id=\"DejaVuSans-109\"/>\n       <path d=\"M 48.6875 27.296875 \nQ 48.6875 37.203125 44.609375 42.84375 \nQ 40.53125 48.484375 33.40625 48.484375 \nQ 26.265625 48.484375 22.1875 42.84375 \nQ 18.109375 37.203125 18.109375 27.296875 \nQ 18.109375 17.390625 22.1875 11.75 \nQ 26.265625 6.109375 33.40625 6.109375 \nQ 40.53125 6.109375 44.609375 11.75 \nQ 48.6875 17.390625 48.6875 27.296875 \nz\nM 18.109375 46.390625 \nQ 20.953125 51.265625 25.265625 53.625 \nQ 29.59375 56 35.59375 56 \nQ 45.5625 56 51.78125 48.09375 \nQ 58.015625 40.1875 58.015625 27.296875 \nQ 58.015625 14.40625 51.78125 6.484375 \nQ 45.5625 -1.421875 35.59375 -1.421875 \nQ 29.59375 -1.421875 25.265625 0.953125 \nQ 20.953125 3.328125 18.109375 8.203125 \nL 18.109375 0 \nL 9.078125 0 \nL 9.078125 75.984375 \nL 18.109375 75.984375 \nz\n\" id=\"DejaVuSans-98\"/>\n       <path d=\"M 56.203125 29.59375 \nL 56.203125 25.203125 \nL 14.890625 25.203125 \nQ 15.484375 15.921875 20.484375 11.0625 \nQ 25.484375 6.203125 34.421875 6.203125 \nQ 39.59375 6.203125 44.453125 7.46875 \nQ 49.3125 8.734375 54.109375 11.28125 \nL 54.109375 2.78125 \nQ 49.265625 0.734375 44.1875 -0.34375 \nQ 39.109375 -1.421875 33.890625 -1.421875 \nQ 20.796875 -1.421875 13.15625 6.1875 \nQ 5.515625 13.8125 5.515625 26.8125 \nQ 5.515625 40.234375 12.765625 48.109375 \nQ 20.015625 56 32.328125 56 \nQ 43.359375 56 49.78125 48.890625 \nQ 56.203125 41.796875 56.203125 29.59375 \nz\nM 47.21875 32.234375 \nQ 47.125 39.59375 43.09375 43.984375 \nQ 39.0625 48.390625 32.421875 48.390625 \nQ 24.90625 48.390625 20.390625 44.140625 \nQ 15.875 39.890625 15.1875 32.171875 \nz\n\" id=\"DejaVuSans-101\"/>\n       <path d=\"M 41.109375 46.296875 \nQ 39.59375 47.171875 37.8125 47.578125 \nQ 36.03125 48 33.890625 48 \nQ 26.265625 48 22.1875 43.046875 \nQ 18.109375 38.09375 18.109375 28.8125 \nL 18.109375 0 \nL 9.078125 0 \nL 9.078125 54.6875 \nL 18.109375 54.6875 \nL 18.109375 46.1875 \nQ 20.953125 51.171875 25.484375 53.578125 \nQ 30.03125 56 36.53125 56 \nQ 37.453125 56 38.578125 55.875 \nQ 39.703125 55.765625 41.0625 55.515625 \nz\n\" id=\"DejaVuSans-114\"/>\n       <path id=\"DejaVuSans-32\"/>\n       <path d=\"M 30.609375 48.390625 \nQ 23.390625 48.390625 19.1875 42.75 \nQ 14.984375 37.109375 14.984375 27.296875 \nQ 14.984375 17.484375 19.15625 11.84375 \nQ 23.34375 6.203125 30.609375 6.203125 \nQ 37.796875 6.203125 41.984375 11.859375 \nQ 46.1875 17.53125 46.1875 27.296875 \nQ 46.1875 37.015625 41.984375 42.703125 \nQ 37.796875 48.390625 30.609375 48.390625 \nz\nM 30.609375 56 \nQ 42.328125 56 49.015625 48.375 \nQ 55.71875 40.765625 55.71875 27.296875 \nQ 55.71875 13.875 49.015625 6.21875 \nQ 42.328125 -1.421875 30.609375 -1.421875 \nQ 18.84375 -1.421875 12.171875 6.21875 \nQ 5.515625 13.875 5.515625 27.296875 \nQ 5.515625 40.765625 12.171875 48.375 \nQ 18.84375 56 30.609375 56 \nz\n\" id=\"DejaVuSans-111\"/>\n       <path d=\"M 37.109375 75.984375 \nL 37.109375 68.5 \nL 28.515625 68.5 \nQ 23.6875 68.5 21.796875 66.546875 \nQ 19.921875 64.59375 19.921875 59.515625 \nL 19.921875 54.6875 \nL 34.71875 54.6875 \nL 34.71875 47.703125 \nL 19.921875 47.703125 \nL 19.921875 0 \nL 10.890625 0 \nL 10.890625 47.703125 \nL 2.296875 47.703125 \nL 2.296875 54.6875 \nL 10.890625 54.6875 \nL 10.890625 58.5 \nQ 10.890625 67.625 15.140625 71.796875 \nQ 19.390625 75.984375 28.609375 75.984375 \nz\n\" id=\"DejaVuSans-102\"/>\n       <path d=\"M 45.40625 46.390625 \nL 45.40625 75.984375 \nL 54.390625 75.984375 \nL 54.390625 0 \nL 45.40625 0 \nL 45.40625 8.203125 \nQ 42.578125 3.328125 38.25 0.953125 \nQ 33.9375 -1.421875 27.875 -1.421875 \nQ 17.96875 -1.421875 11.734375 6.484375 \nQ 5.515625 14.40625 5.515625 27.296875 \nQ 5.515625 40.1875 11.734375 48.09375 \nQ 17.96875 56 27.875 56 \nQ 33.9375 56 38.25 53.625 \nQ 42.578125 51.265625 45.40625 46.390625 \nz\nM 14.796875 27.296875 \nQ 14.796875 17.390625 18.875 11.75 \nQ 22.953125 6.109375 30.078125 6.109375 \nQ 37.203125 6.109375 41.296875 11.75 \nQ 45.40625 17.390625 45.40625 27.296875 \nQ 45.40625 37.203125 41.296875 42.84375 \nQ 37.203125 48.484375 30.078125 48.484375 \nQ 22.953125 48.484375 18.875 42.84375 \nQ 14.796875 37.203125 14.796875 27.296875 \nz\n\" id=\"DejaVuSans-100\"/>\n       <path d=\"M 9.421875 54.6875 \nL 18.40625 54.6875 \nL 18.40625 0 \nL 9.421875 0 \nz\nM 9.421875 75.984375 \nL 18.40625 75.984375 \nL 18.40625 64.59375 \nL 9.421875 64.59375 \nz\n\" id=\"DejaVuSans-105\"/>\n       <path d=\"M 48.78125 52.59375 \nL 48.78125 44.1875 \nQ 44.96875 46.296875 41.140625 47.34375 \nQ 37.3125 48.390625 33.40625 48.390625 \nQ 24.65625 48.390625 19.8125 42.84375 \nQ 14.984375 37.3125 14.984375 27.296875 \nQ 14.984375 17.28125 19.8125 11.734375 \nQ 24.65625 6.203125 33.40625 6.203125 \nQ 37.3125 6.203125 41.140625 7.25 \nQ 44.96875 8.296875 48.78125 10.40625 \nL 48.78125 2.09375 \nQ 45.015625 0.34375 40.984375 -0.53125 \nQ 36.96875 -1.421875 32.421875 -1.421875 \nQ 20.0625 -1.421875 12.78125 6.34375 \nQ 5.515625 14.109375 5.515625 27.296875 \nQ 5.515625 40.671875 12.859375 48.328125 \nQ 20.21875 56 33.015625 56 \nQ 37.15625 56 41.109375 55.140625 \nQ 45.0625 54.296875 48.78125 52.59375 \nz\n\" id=\"DejaVuSans-99\"/>\n       <path d=\"M 9.8125 72.90625 \nL 24.515625 72.90625 \nL 43.109375 23.296875 \nL 61.8125 72.90625 \nL 76.515625 72.90625 \nL 76.515625 0 \nL 66.890625 0 \nL 66.890625 64.015625 \nL 48.09375 14.015625 \nL 38.1875 14.015625 \nL 19.390625 64.015625 \nL 19.390625 0 \nL 9.8125 0 \nz\n\" id=\"DejaVuSans-77\"/>\n      </defs>\n      <use xlink:href=\"#DejaVuSans-78\"/>\n      <use x=\"74.804688\" xlink:href=\"#DejaVuSans-117\"/>\n      <use x=\"138.183594\" xlink:href=\"#DejaVuSans-109\"/>\n      <use x=\"235.595703\" xlink:href=\"#DejaVuSans-98\"/>\n      <use x=\"299.072266\" xlink:href=\"#DejaVuSans-101\"/>\n      <use x=\"360.595703\" xlink:href=\"#DejaVuSans-114\"/>\n      <use x=\"401.708984\" xlink:href=\"#DejaVuSans-32\"/>\n      <use x=\"433.496094\" xlink:href=\"#DejaVuSans-111\"/>\n      <use x=\"494.677734\" xlink:href=\"#DejaVuSans-102\"/>\n      <use x=\"529.882812\" xlink:href=\"#DejaVuSans-32\"/>\n      <use x=\"561.669922\" xlink:href=\"#DejaVuSans-100\"/>\n      <use x=\"625.146484\" xlink:href=\"#DejaVuSans-105\"/>\n      <use x=\"652.929688\" xlink:href=\"#DejaVuSans-99\"/>\n      <use x=\"707.910156\" xlink:href=\"#DejaVuSans-101\"/>\n      <use x=\"769.433594\" xlink:href=\"#DejaVuSans-32\"/>\n      <use x=\"801.220703\" xlink:href=\"#DejaVuSans-77\"/>\n     </g>\n    </g>\n   </g>\n   <g id=\"matplotlib.axis_2\">\n    <g id=\"ytick_1\">\n     <g id=\"line2d_7\">\n      <defs>\n       <path d=\"M 0 0 \nL -3.5 0 \n\" id=\"mb897b8ee2f\" style=\"stroke:#000000;stroke-width:0.8;\"/>\n      </defs>\n      <g>\n       <use style=\"stroke:#000000;stroke-width:0.8;\" x=\"43.78125\" xlink:href=\"#mb897b8ee2f\" y=\"232.28504\"/>\n      </g>\n     </g>\n     <g id=\"text_8\">\n      <!-- 0.0 -->\n      <g transform=\"translate(20.878125 236.084259)scale(0.1 -0.1)\">\n       <defs>\n        <path d=\"M 31.78125 66.40625 \nQ 24.171875 66.40625 20.328125 58.90625 \nQ 16.5 51.421875 16.5 36.375 \nQ 16.5 21.390625 20.328125 13.890625 \nQ 24.171875 6.390625 31.78125 6.390625 \nQ 39.453125 6.390625 43.28125 13.890625 \nQ 47.125 21.390625 47.125 36.375 \nQ 47.125 51.421875 43.28125 58.90625 \nQ 39.453125 66.40625 31.78125 66.40625 \nz\nM 31.78125 74.21875 \nQ 44.046875 74.21875 50.515625 64.515625 \nQ 56.984375 54.828125 56.984375 36.375 \nQ 56.984375 17.96875 50.515625 8.265625 \nQ 44.046875 -1.421875 31.78125 -1.421875 \nQ 19.53125 -1.421875 13.0625 8.265625 \nQ 6.59375 17.96875 6.59375 36.375 \nQ 6.59375 54.828125 13.0625 64.515625 \nQ 19.53125 74.21875 31.78125 74.21875 \nz\n\" id=\"DejaVuSans-48\"/>\n        <path d=\"M 10.6875 12.40625 \nL 21 12.40625 \nL 21 0 \nL 10.6875 0 \nz\n\" id=\"DejaVuSans-46\"/>\n       </defs>\n       <use xlink:href=\"#DejaVuSans-48\"/>\n       <use x=\"63.623047\" xlink:href=\"#DejaVuSans-46\"/>\n       <use x=\"95.410156\" xlink:href=\"#DejaVuSans-48\"/>\n      </g>\n     </g>\n    </g>\n    <g id=\"ytick_2\">\n     <g id=\"line2d_8\">\n      <g>\n       <use style=\"stroke:#000000;stroke-width:0.8;\" x=\"43.78125\" xlink:href=\"#mb897b8ee2f\" y=\"192.647437\"/>\n      </g>\n     </g>\n     <g id=\"text_9\">\n      <!-- 0.1 -->\n      <g transform=\"translate(20.878125 196.446656)scale(0.1 -0.1)\">\n       <defs>\n        <path d=\"M 12.40625 8.296875 \nL 28.515625 8.296875 \nL 28.515625 63.921875 \nL 10.984375 60.40625 \nL 10.984375 69.390625 \nL 28.421875 72.90625 \nL 38.28125 72.90625 \nL 38.28125 8.296875 \nL 54.390625 8.296875 \nL 54.390625 0 \nL 12.40625 0 \nz\n\" id=\"DejaVuSans-49\"/>\n       </defs>\n       <use xlink:href=\"#DejaVuSans-48\"/>\n       <use x=\"63.623047\" xlink:href=\"#DejaVuSans-46\"/>\n       <use x=\"95.410156\" xlink:href=\"#DejaVuSans-49\"/>\n      </g>\n     </g>\n    </g>\n    <g id=\"ytick_3\">\n     <g id=\"line2d_9\">\n      <g>\n       <use style=\"stroke:#000000;stroke-width:0.8;\" x=\"43.78125\" xlink:href=\"#mb897b8ee2f\" y=\"153.009834\"/>\n      </g>\n     </g>\n     <g id=\"text_10\">\n      <!-- 0.2 -->\n      <g transform=\"translate(20.878125 156.809052)scale(0.1 -0.1)\">\n       <use xlink:href=\"#DejaVuSans-48\"/>\n       <use x=\"63.623047\" xlink:href=\"#DejaVuSans-46\"/>\n       <use x=\"95.410156\" xlink:href=\"#DejaVuSans-50\"/>\n      </g>\n     </g>\n    </g>\n    <g id=\"ytick_4\">\n     <g id=\"line2d_10\">\n      <g>\n       <use style=\"stroke:#000000;stroke-width:0.8;\" x=\"43.78125\" xlink:href=\"#mb897b8ee2f\" y=\"113.37223\"/>\n      </g>\n     </g>\n     <g id=\"text_11\">\n      <!-- 0.3 -->\n      <g transform=\"translate(20.878125 117.171449)scale(0.1 -0.1)\">\n       <use xlink:href=\"#DejaVuSans-48\"/>\n       <use x=\"63.623047\" xlink:href=\"#DejaVuSans-46\"/>\n       <use x=\"95.410156\" xlink:href=\"#DejaVuSans-51\"/>\n      </g>\n     </g>\n    </g>\n    <g id=\"ytick_5\">\n     <g id=\"line2d_11\">\n      <g>\n       <use style=\"stroke:#000000;stroke-width:0.8;\" x=\"43.78125\" xlink:href=\"#mb897b8ee2f\" y=\"73.734627\"/>\n      </g>\n     </g>\n     <g id=\"text_12\">\n      <!-- 0.4 -->\n      <g transform=\"translate(20.878125 77.533846)scale(0.1 -0.1)\">\n       <use xlink:href=\"#DejaVuSans-48\"/>\n       <use x=\"63.623047\" xlink:href=\"#DejaVuSans-46\"/>\n       <use x=\"95.410156\" xlink:href=\"#DejaVuSans-52\"/>\n      </g>\n     </g>\n    </g>\n    <g id=\"ytick_6\">\n     <g id=\"line2d_12\">\n      <g>\n       <use style=\"stroke:#000000;stroke-width:0.8;\" x=\"43.78125\" xlink:href=\"#mb897b8ee2f\" y=\"34.097024\"/>\n      </g>\n     </g>\n     <g id=\"text_13\">\n      <!-- 0.5 -->\n      <g transform=\"translate(20.878125 37.896243)scale(0.1 -0.1)\">\n       <use xlink:href=\"#DejaVuSans-48\"/>\n       <use x=\"63.623047\" xlink:href=\"#DejaVuSans-46\"/>\n       <use x=\"95.410156\" xlink:href=\"#DejaVuSans-53\"/>\n      </g>\n     </g>\n    </g>\n    <g id=\"text_14\">\n     <!-- Percentage of Triplets -->\n     <g transform=\"translate(14.798438 186.979687)rotate(-90)scale(0.1 -0.1)\">\n      <defs>\n       <path d=\"M 19.671875 64.796875 \nL 19.671875 37.40625 \nL 32.078125 37.40625 \nQ 38.96875 37.40625 42.71875 40.96875 \nQ 46.484375 44.53125 46.484375 51.125 \nQ 46.484375 57.671875 42.71875 61.234375 \nQ 38.96875 64.796875 32.078125 64.796875 \nz\nM 9.8125 72.90625 \nL 32.078125 72.90625 \nQ 44.34375 72.90625 50.609375 67.359375 \nQ 56.890625 61.8125 56.890625 51.125 \nQ 56.890625 40.328125 50.609375 34.8125 \nQ 44.34375 29.296875 32.078125 29.296875 \nL 19.671875 29.296875 \nL 19.671875 0 \nL 9.8125 0 \nz\n\" id=\"DejaVuSans-80\"/>\n       <path d=\"M 54.890625 33.015625 \nL 54.890625 0 \nL 45.90625 0 \nL 45.90625 32.71875 \nQ 45.90625 40.484375 42.875 44.328125 \nQ 39.84375 48.1875 33.796875 48.1875 \nQ 26.515625 48.1875 22.3125 43.546875 \nQ 18.109375 38.921875 18.109375 30.90625 \nL 18.109375 0 \nL 9.078125 0 \nL 9.078125 54.6875 \nL 18.109375 54.6875 \nL 18.109375 46.1875 \nQ 21.34375 51.125 25.703125 53.5625 \nQ 30.078125 56 35.796875 56 \nQ 45.21875 56 50.046875 50.171875 \nQ 54.890625 44.34375 54.890625 33.015625 \nz\n\" id=\"DejaVuSans-110\"/>\n       <path d=\"M 18.3125 70.21875 \nL 18.3125 54.6875 \nL 36.8125 54.6875 \nL 36.8125 47.703125 \nL 18.3125 47.703125 \nL 18.3125 18.015625 \nQ 18.3125 11.328125 20.140625 9.421875 \nQ 21.96875 7.515625 27.59375 7.515625 \nL 36.8125 7.515625 \nL 36.8125 0 \nL 27.59375 0 \nQ 17.1875 0 13.234375 3.875 \nQ 9.28125 7.765625 9.28125 18.015625 \nL 9.28125 47.703125 \nL 2.6875 47.703125 \nL 2.6875 54.6875 \nL 9.28125 54.6875 \nL 9.28125 70.21875 \nz\n\" id=\"DejaVuSans-116\"/>\n       <path d=\"M 34.28125 27.484375 \nQ 23.390625 27.484375 19.1875 25 \nQ 14.984375 22.515625 14.984375 16.5 \nQ 14.984375 11.71875 18.140625 8.90625 \nQ 21.296875 6.109375 26.703125 6.109375 \nQ 34.1875 6.109375 38.703125 11.40625 \nQ 43.21875 16.703125 43.21875 25.484375 \nL 43.21875 27.484375 \nz\nM 52.203125 31.203125 \nL 52.203125 0 \nL 43.21875 0 \nL 43.21875 8.296875 \nQ 40.140625 3.328125 35.546875 0.953125 \nQ 30.953125 -1.421875 24.3125 -1.421875 \nQ 15.921875 -1.421875 10.953125 3.296875 \nQ 6 8.015625 6 15.921875 \nQ 6 25.140625 12.171875 29.828125 \nQ 18.359375 34.515625 30.609375 34.515625 \nL 43.21875 34.515625 \nL 43.21875 35.40625 \nQ 43.21875 41.609375 39.140625 45 \nQ 35.0625 48.390625 27.6875 48.390625 \nQ 23 48.390625 18.546875 47.265625 \nQ 14.109375 46.140625 10.015625 43.890625 \nL 10.015625 52.203125 \nQ 14.9375 54.109375 19.578125 55.046875 \nQ 24.21875 56 28.609375 56 \nQ 40.484375 56 46.34375 49.84375 \nQ 52.203125 43.703125 52.203125 31.203125 \nz\n\" id=\"DejaVuSans-97\"/>\n       <path d=\"M 45.40625 27.984375 \nQ 45.40625 37.75 41.375 43.109375 \nQ 37.359375 48.484375 30.078125 48.484375 \nQ 22.859375 48.484375 18.828125 43.109375 \nQ 14.796875 37.75 14.796875 27.984375 \nQ 14.796875 18.265625 18.828125 12.890625 \nQ 22.859375 7.515625 30.078125 7.515625 \nQ 37.359375 7.515625 41.375 12.890625 \nQ 45.40625 18.265625 45.40625 27.984375 \nz\nM 54.390625 6.78125 \nQ 54.390625 -7.171875 48.1875 -13.984375 \nQ 42 -20.796875 29.203125 -20.796875 \nQ 24.46875 -20.796875 20.265625 -20.09375 \nQ 16.0625 -19.390625 12.109375 -17.921875 \nL 12.109375 -9.1875 \nQ 16.0625 -11.328125 19.921875 -12.34375 \nQ 23.78125 -13.375 27.78125 -13.375 \nQ 36.625 -13.375 41.015625 -8.765625 \nQ 45.40625 -4.15625 45.40625 5.171875 \nL 45.40625 9.625 \nQ 42.625 4.78125 38.28125 2.390625 \nQ 33.9375 0 27.875 0 \nQ 17.828125 0 11.671875 7.65625 \nQ 5.515625 15.328125 5.515625 27.984375 \nQ 5.515625 40.671875 11.671875 48.328125 \nQ 17.828125 56 27.875 56 \nQ 33.9375 56 38.28125 53.609375 \nQ 42.625 51.21875 45.40625 46.390625 \nL 45.40625 54.6875 \nL 54.390625 54.6875 \nz\n\" id=\"DejaVuSans-103\"/>\n       <path d=\"M -0.296875 72.90625 \nL 61.375 72.90625 \nL 61.375 64.59375 \nL 35.5 64.59375 \nL 35.5 0 \nL 25.59375 0 \nL 25.59375 64.59375 \nL -0.296875 64.59375 \nz\n\" id=\"DejaVuSans-84\"/>\n       <path d=\"M 18.109375 8.203125 \nL 18.109375 -20.796875 \nL 9.078125 -20.796875 \nL 9.078125 54.6875 \nL 18.109375 54.6875 \nL 18.109375 46.390625 \nQ 20.953125 51.265625 25.265625 53.625 \nQ 29.59375 56 35.59375 56 \nQ 45.5625 56 51.78125 48.09375 \nQ 58.015625 40.1875 58.015625 27.296875 \nQ 58.015625 14.40625 51.78125 6.484375 \nQ 45.5625 -1.421875 35.59375 -1.421875 \nQ 29.59375 -1.421875 25.265625 0.953125 \nQ 20.953125 3.328125 18.109375 8.203125 \nz\nM 48.6875 27.296875 \nQ 48.6875 37.203125 44.609375 42.84375 \nQ 40.53125 48.484375 33.40625 48.484375 \nQ 26.265625 48.484375 22.1875 42.84375 \nQ 18.109375 37.203125 18.109375 27.296875 \nQ 18.109375 17.390625 22.1875 11.75 \nQ 26.265625 6.109375 33.40625 6.109375 \nQ 40.53125 6.109375 44.609375 11.75 \nQ 48.6875 17.390625 48.6875 27.296875 \nz\n\" id=\"DejaVuSans-112\"/>\n       <path d=\"M 9.421875 75.984375 \nL 18.40625 75.984375 \nL 18.40625 0 \nL 9.421875 0 \nz\n\" id=\"DejaVuSans-108\"/>\n       <path d=\"M 44.28125 53.078125 \nL 44.28125 44.578125 \nQ 40.484375 46.53125 36.375 47.5 \nQ 32.28125 48.484375 27.875 48.484375 \nQ 21.1875 48.484375 17.84375 46.4375 \nQ 14.5 44.390625 14.5 40.28125 \nQ 14.5 37.15625 16.890625 35.375 \nQ 19.28125 33.59375 26.515625 31.984375 \nL 29.59375 31.296875 \nQ 39.15625 29.25 43.1875 25.515625 \nQ 47.21875 21.78125 47.21875 15.09375 \nQ 47.21875 7.46875 41.1875 3.015625 \nQ 35.15625 -1.421875 24.609375 -1.421875 \nQ 20.21875 -1.421875 15.453125 -0.5625 \nQ 10.6875 0.296875 5.421875 2 \nL 5.421875 11.28125 \nQ 10.40625 8.6875 15.234375 7.390625 \nQ 20.0625 6.109375 24.8125 6.109375 \nQ 31.15625 6.109375 34.5625 8.28125 \nQ 37.984375 10.453125 37.984375 14.40625 \nQ 37.984375 18.0625 35.515625 20.015625 \nQ 33.0625 21.96875 24.703125 23.78125 \nL 21.578125 24.515625 \nQ 13.234375 26.265625 9.515625 29.90625 \nQ 5.8125 33.546875 5.8125 39.890625 \nQ 5.8125 47.609375 11.28125 51.796875 \nQ 16.75 56 26.8125 56 \nQ 31.78125 56 36.171875 55.265625 \nQ 40.578125 54.546875 44.28125 53.078125 \nz\n\" id=\"DejaVuSans-115\"/>\n      </defs>\n      <use xlink:href=\"#DejaVuSans-80\"/>\n      <use x=\"56.677734\" xlink:href=\"#DejaVuSans-101\"/>\n      <use x=\"118.201172\" xlink:href=\"#DejaVuSans-114\"/>\n      <use x=\"157.064453\" xlink:href=\"#DejaVuSans-99\"/>\n      <use x=\"212.044922\" xlink:href=\"#DejaVuSans-101\"/>\n      <use x=\"273.568359\" xlink:href=\"#DejaVuSans-110\"/>\n      <use x=\"336.947266\" xlink:href=\"#DejaVuSans-116\"/>\n      <use x=\"376.15625\" xlink:href=\"#DejaVuSans-97\"/>\n      <use x=\"437.435547\" xlink:href=\"#DejaVuSans-103\"/>\n      <use x=\"500.912109\" xlink:href=\"#DejaVuSans-101\"/>\n      <use x=\"562.435547\" xlink:href=\"#DejaVuSans-32\"/>\n      <use x=\"594.222656\" xlink:href=\"#DejaVuSans-111\"/>\n      <use x=\"655.404297\" xlink:href=\"#DejaVuSans-102\"/>\n      <use x=\"690.609375\" xlink:href=\"#DejaVuSans-32\"/>\n      <use x=\"722.396484\" xlink:href=\"#DejaVuSans-84\"/>\n      <use x=\"768.730469\" xlink:href=\"#DejaVuSans-114\"/>\n      <use x=\"809.84375\" xlink:href=\"#DejaVuSans-105\"/>\n      <use x=\"837.626953\" xlink:href=\"#DejaVuSans-112\"/>\n      <use x=\"901.103516\" xlink:href=\"#DejaVuSans-108\"/>\n      <use x=\"928.886719\" xlink:href=\"#DejaVuSans-101\"/>\n      <use x=\"990.410156\" xlink:href=\"#DejaVuSans-116\"/>\n      <use x=\"1029.619141\" xlink:href=\"#DejaVuSans-115\"/>\n     </g>\n    </g>\n   </g>\n   <g id=\"line2d_13\">\n    <path clip-path=\"url(#pb09bd67fd8)\" d=\"M 57.615961 104.493407 \nL 112.954804 190.625919 \nL 168.293647 218.213691 \nL 223.63249 226.735776 \nL 278.971333 230.778811 \nL 334.310176 231.730114 \n\" style=\"fill:none;stroke:#1f77b4;stroke-linecap:square;stroke-width:1.5;\"/>\n   </g>\n   <g id=\"line2d_14\">\n    <path clip-path=\"url(#pb09bd67fd8)\" d=\"M 57.615961 34.057386 \nL 112.954804 114.600996 \nL 168.293647 152.534182 \nL 223.63249 175.960006 \nL 278.971333 189.912442 \nL 334.310176 198.434527 \n\" style=\"fill:none;stroke:#ff7f0e;stroke-linecap:square;stroke-width:1.5;\"/>\n   </g>\n   <g id=\"patch_3\">\n    <path d=\"M 43.78125 241.61375 \nL 43.78125 24.17375 \n\" style=\"fill:none;stroke:#000000;stroke-linecap:square;stroke-linejoin:miter;stroke-width:0.8;\"/>\n   </g>\n   <g id=\"patch_4\">\n    <path d=\"M 348.144886 241.61375 \nL 348.144886 24.17375 \n\" style=\"fill:none;stroke:#000000;stroke-linecap:square;stroke-linejoin:miter;stroke-width:0.8;\"/>\n   </g>\n   <g id=\"patch_5\">\n    <path d=\"M 43.78125 241.61375 \nL 348.144886 241.61375 \n\" style=\"fill:none;stroke:#000000;stroke-linecap:square;stroke-linejoin:miter;stroke-width:0.8;\"/>\n   </g>\n   <g id=\"patch_6\">\n    <path d=\"M 43.78125 24.17375 \nL 348.144886 24.17375 \n\" style=\"fill:none;stroke:#000000;stroke-linecap:square;stroke-linejoin:miter;stroke-width:0.8;\"/>\n   </g>\n  </g>\n  <g id=\"axes_2\">\n   <g id=\"patch_7\">\n    <path d=\"M 409.017614 241.61375 \nL 713.38125 241.61375 \nL 713.38125 24.17375 \nL 409.017614 24.17375 \nz\n\" style=\"fill:#ffffff;\"/>\n   </g>\n   <g id=\"matplotlib.axis_3\">\n    <g id=\"xtick_7\">\n     <g id=\"line2d_15\">\n      <g>\n       <use style=\"stroke:#000000;stroke-width:0.8;\" x=\"422.852324\" xlink:href=\"#m265c518012\" y=\"241.61375\"/>\n      </g>\n     </g>\n     <g id=\"text_15\">\n      <!-- 2 -->\n      <g transform=\"translate(419.671074 256.212187)scale(0.1 -0.1)\">\n       <use xlink:href=\"#DejaVuSans-50\"/>\n      </g>\n     </g>\n    </g>\n    <g id=\"xtick_8\">\n     <g id=\"line2d_16\">\n      <g>\n       <use style=\"stroke:#000000;stroke-width:0.8;\" x=\"478.191167\" xlink:href=\"#m265c518012\" y=\"241.61375\"/>\n      </g>\n     </g>\n     <g id=\"text_16\">\n      <!-- 3 -->\n      <g transform=\"translate(475.009917 256.212187)scale(0.1 -0.1)\">\n       <use xlink:href=\"#DejaVuSans-51\"/>\n      </g>\n     </g>\n    </g>\n    <g id=\"xtick_9\">\n     <g id=\"line2d_17\">\n      <g>\n       <use style=\"stroke:#000000;stroke-width:0.8;\" x=\"533.53001\" xlink:href=\"#m265c518012\" y=\"241.61375\"/>\n      </g>\n     </g>\n     <g id=\"text_17\">\n      <!-- 4 -->\n      <g transform=\"translate(530.34876 256.212187)scale(0.1 -0.1)\">\n       <use xlink:href=\"#DejaVuSans-52\"/>\n      </g>\n     </g>\n    </g>\n    <g id=\"xtick_10\">\n     <g id=\"line2d_18\">\n      <g>\n       <use style=\"stroke:#000000;stroke-width:0.8;\" x=\"588.868853\" xlink:href=\"#m265c518012\" y=\"241.61375\"/>\n      </g>\n     </g>\n     <g id=\"text_18\">\n      <!-- 5 -->\n      <g transform=\"translate(585.687603 256.212187)scale(0.1 -0.1)\">\n       <use xlink:href=\"#DejaVuSans-53\"/>\n      </g>\n     </g>\n    </g>\n    <g id=\"xtick_11\">\n     <g id=\"line2d_19\">\n      <g>\n       <use style=\"stroke:#000000;stroke-width:0.8;\" x=\"644.207696\" xlink:href=\"#m265c518012\" y=\"241.61375\"/>\n      </g>\n     </g>\n     <g id=\"text_19\">\n      <!-- 6 -->\n      <g transform=\"translate(641.026446 256.212187)scale(0.1 -0.1)\">\n       <use xlink:href=\"#DejaVuSans-54\"/>\n      </g>\n     </g>\n    </g>\n    <g id=\"xtick_12\">\n     <g id=\"line2d_20\">\n      <g>\n       <use style=\"stroke:#000000;stroke-width:0.8;\" x=\"699.546539\" xlink:href=\"#m265c518012\" y=\"241.61375\"/>\n      </g>\n     </g>\n     <g id=\"text_20\">\n      <!-- 7 -->\n      <g transform=\"translate(696.365289 256.212187)scale(0.1 -0.1)\">\n       <use xlink:href=\"#DejaVuSans-55\"/>\n      </g>\n     </g>\n    </g>\n    <g id=\"text_21\">\n     <!-- Number of dice M -->\n     <g transform=\"translate(516.823651 269.890312)scale(0.1 -0.1)\">\n      <use xlink:href=\"#DejaVuSans-78\"/>\n      <use x=\"74.804688\" xlink:href=\"#DejaVuSans-117\"/>\n      <use x=\"138.183594\" xlink:href=\"#DejaVuSans-109\"/>\n      <use x=\"235.595703\" xlink:href=\"#DejaVuSans-98\"/>\n      <use x=\"299.072266\" xlink:href=\"#DejaVuSans-101\"/>\n      <use x=\"360.595703\" xlink:href=\"#DejaVuSans-114\"/>\n      <use x=\"401.708984\" xlink:href=\"#DejaVuSans-32\"/>\n      <use x=\"433.496094\" xlink:href=\"#DejaVuSans-111\"/>\n      <use x=\"494.677734\" xlink:href=\"#DejaVuSans-102\"/>\n      <use x=\"529.882812\" xlink:href=\"#DejaVuSans-32\"/>\n      <use x=\"561.669922\" xlink:href=\"#DejaVuSans-100\"/>\n      <use x=\"625.146484\" xlink:href=\"#DejaVuSans-105\"/>\n      <use x=\"652.929688\" xlink:href=\"#DejaVuSans-99\"/>\n      <use x=\"707.910156\" xlink:href=\"#DejaVuSans-101\"/>\n      <use x=\"769.433594\" xlink:href=\"#DejaVuSans-32\"/>\n      <use x=\"801.220703\" xlink:href=\"#DejaVuSans-77\"/>\n     </g>\n    </g>\n   </g>\n   <g id=\"matplotlib.axis_4\">\n    <g id=\"ytick_7\">\n     <g id=\"line2d_21\">\n      <g>\n       <use style=\"stroke:#000000;stroke-width:0.8;\" x=\"409.017614\" xlink:href=\"#mb897b8ee2f\" y=\"236.887923\"/>\n      </g>\n     </g>\n     <g id=\"text_22\">\n      <!-- 0 -->\n      <g transform=\"translate(395.655114 240.687142)scale(0.1 -0.1)\">\n       <use xlink:href=\"#DejaVuSans-48\"/>\n      </g>\n     </g>\n    </g>\n    <g id=\"ytick_8\">\n     <g id=\"line2d_22\">\n      <g>\n       <use style=\"stroke:#000000;stroke-width:0.8;\" x=\"409.017614\" xlink:href=\"#mb897b8ee2f\" y=\"203.637016\"/>\n      </g>\n     </g>\n     <g id=\"text_23\">\n      <!-- 10 -->\n      <g transform=\"translate(389.292614 207.436235)scale(0.1 -0.1)\">\n       <use xlink:href=\"#DejaVuSans-49\"/>\n       <use x=\"63.623047\" xlink:href=\"#DejaVuSans-48\"/>\n      </g>\n     </g>\n    </g>\n    <g id=\"ytick_9\">\n     <g id=\"line2d_23\">\n      <g>\n       <use style=\"stroke:#000000;stroke-width:0.8;\" x=\"409.017614\" xlink:href=\"#mb897b8ee2f\" y=\"170.386108\"/>\n      </g>\n     </g>\n     <g id=\"text_24\">\n      <!-- 20 -->\n      <g transform=\"translate(389.292614 174.185327)scale(0.1 -0.1)\">\n       <use xlink:href=\"#DejaVuSans-50\"/>\n       <use x=\"63.623047\" xlink:href=\"#DejaVuSans-48\"/>\n      </g>\n     </g>\n    </g>\n    <g id=\"ytick_10\">\n     <g id=\"line2d_24\">\n      <g>\n       <use style=\"stroke:#000000;stroke-width:0.8;\" x=\"409.017614\" xlink:href=\"#mb897b8ee2f\" y=\"137.1352\"/>\n      </g>\n     </g>\n     <g id=\"text_25\">\n      <!-- 30 -->\n      <g transform=\"translate(389.292614 140.934419)scale(0.1 -0.1)\">\n       <use xlink:href=\"#DejaVuSans-51\"/>\n       <use x=\"63.623047\" xlink:href=\"#DejaVuSans-48\"/>\n      </g>\n     </g>\n    </g>\n    <g id=\"ytick_11\">\n     <g id=\"line2d_25\">\n      <g>\n       <use style=\"stroke:#000000;stroke-width:0.8;\" x=\"409.017614\" xlink:href=\"#mb897b8ee2f\" y=\"103.884293\"/>\n      </g>\n     </g>\n     <g id=\"text_26\">\n      <!-- 40 -->\n      <g transform=\"translate(389.292614 107.683511)scale(0.1 -0.1)\">\n       <use xlink:href=\"#DejaVuSans-52\"/>\n       <use x=\"63.623047\" xlink:href=\"#DejaVuSans-48\"/>\n      </g>\n     </g>\n    </g>\n    <g id=\"ytick_12\">\n     <g id=\"line2d_26\">\n      <g>\n       <use style=\"stroke:#000000;stroke-width:0.8;\" x=\"409.017614\" xlink:href=\"#mb897b8ee2f\" y=\"70.633385\"/>\n      </g>\n     </g>\n     <g id=\"text_27\">\n      <!-- 50 -->\n      <g transform=\"translate(389.292614 74.432604)scale(0.1 -0.1)\">\n       <use xlink:href=\"#DejaVuSans-53\"/>\n       <use x=\"63.623047\" xlink:href=\"#DejaVuSans-48\"/>\n      </g>\n     </g>\n    </g>\n    <g id=\"ytick_13\">\n     <g id=\"line2d_27\">\n      <g>\n       <use style=\"stroke:#000000;stroke-width:0.8;\" x=\"409.017614\" xlink:href=\"#mb897b8ee2f\" y=\"37.382477\"/>\n      </g>\n     </g>\n     <g id=\"text_28\">\n      <!-- 60 -->\n      <g transform=\"translate(389.292614 41.181696)scale(0.1 -0.1)\">\n       <use xlink:href=\"#DejaVuSans-54\"/>\n       <use x=\"63.623047\" xlink:href=\"#DejaVuSans-48\"/>\n      </g>\n     </g>\n    </g>\n    <g id=\"text_29\">\n     <!-- Ratio: Triplets in Bosons/Triplets in Distinguishable -->\n     <g transform=\"translate(383.212926 258.5875)rotate(-90)scale(0.1 -0.1)\">\n      <defs>\n       <path d=\"M 44.390625 34.1875 \nQ 47.5625 33.109375 50.5625 29.59375 \nQ 53.5625 26.078125 56.59375 19.921875 \nL 66.609375 0 \nL 56 0 \nL 46.6875 18.703125 \nQ 43.0625 26.03125 39.671875 28.421875 \nQ 36.28125 30.8125 30.421875 30.8125 \nL 19.671875 30.8125 \nL 19.671875 0 \nL 9.8125 0 \nL 9.8125 72.90625 \nL 32.078125 72.90625 \nQ 44.578125 72.90625 50.734375 67.671875 \nQ 56.890625 62.453125 56.890625 51.90625 \nQ 56.890625 45.015625 53.6875 40.46875 \nQ 50.484375 35.9375 44.390625 34.1875 \nz\nM 19.671875 64.796875 \nL 19.671875 38.921875 \nL 32.078125 38.921875 \nQ 39.203125 38.921875 42.84375 42.21875 \nQ 46.484375 45.515625 46.484375 51.90625 \nQ 46.484375 58.296875 42.84375 61.546875 \nQ 39.203125 64.796875 32.078125 64.796875 \nz\n\" id=\"DejaVuSans-82\"/>\n       <path d=\"M 11.71875 12.40625 \nL 22.015625 12.40625 \nL 22.015625 0 \nL 11.71875 0 \nz\nM 11.71875 51.703125 \nL 22.015625 51.703125 \nL 22.015625 39.3125 \nL 11.71875 39.3125 \nz\n\" id=\"DejaVuSans-58\"/>\n       <path d=\"M 19.671875 34.8125 \nL 19.671875 8.109375 \nL 35.5 8.109375 \nQ 43.453125 8.109375 47.28125 11.40625 \nQ 51.125 14.703125 51.125 21.484375 \nQ 51.125 28.328125 47.28125 31.5625 \nQ 43.453125 34.8125 35.5 34.8125 \nz\nM 19.671875 64.796875 \nL 19.671875 42.828125 \nL 34.28125 42.828125 \nQ 41.5 42.828125 45.03125 45.53125 \nQ 48.578125 48.25 48.578125 53.8125 \nQ 48.578125 59.328125 45.03125 62.0625 \nQ 41.5 64.796875 34.28125 64.796875 \nz\nM 9.8125 72.90625 \nL 35.015625 72.90625 \nQ 46.296875 72.90625 52.390625 68.21875 \nQ 58.5 63.53125 58.5 54.890625 \nQ 58.5 48.1875 55.375 44.234375 \nQ 52.25 40.28125 46.1875 39.3125 \nQ 53.46875 37.75 57.5 32.78125 \nQ 61.53125 27.828125 61.53125 20.40625 \nQ 61.53125 10.640625 54.890625 5.3125 \nQ 48.25 0 35.984375 0 \nL 9.8125 0 \nz\n\" id=\"DejaVuSans-66\"/>\n       <path d=\"M 25.390625 72.90625 \nL 33.6875 72.90625 \nL 8.296875 -9.28125 \nL 0 -9.28125 \nz\n\" id=\"DejaVuSans-47\"/>\n       <path d=\"M 19.671875 64.796875 \nL 19.671875 8.109375 \nL 31.59375 8.109375 \nQ 46.6875 8.109375 53.6875 14.9375 \nQ 60.6875 21.78125 60.6875 36.53125 \nQ 60.6875 51.171875 53.6875 57.984375 \nQ 46.6875 64.796875 31.59375 64.796875 \nz\nM 9.8125 72.90625 \nL 30.078125 72.90625 \nQ 51.265625 72.90625 61.171875 64.09375 \nQ 71.09375 55.28125 71.09375 36.53125 \nQ 71.09375 17.671875 61.125 8.828125 \nQ 51.171875 0 30.078125 0 \nL 9.8125 0 \nz\n\" id=\"DejaVuSans-68\"/>\n       <path d=\"M 54.890625 33.015625 \nL 54.890625 0 \nL 45.90625 0 \nL 45.90625 32.71875 \nQ 45.90625 40.484375 42.875 44.328125 \nQ 39.84375 48.1875 33.796875 48.1875 \nQ 26.515625 48.1875 22.3125 43.546875 \nQ 18.109375 38.921875 18.109375 30.90625 \nL 18.109375 0 \nL 9.078125 0 \nL 9.078125 75.984375 \nL 18.109375 75.984375 \nL 18.109375 46.1875 \nQ 21.34375 51.125 25.703125 53.5625 \nQ 30.078125 56 35.796875 56 \nQ 45.21875 56 50.046875 50.171875 \nQ 54.890625 44.34375 54.890625 33.015625 \nz\n\" id=\"DejaVuSans-104\"/>\n      </defs>\n      <use xlink:href=\"#DejaVuSans-82\"/>\n      <use x=\"67.232422\" xlink:href=\"#DejaVuSans-97\"/>\n      <use x=\"128.511719\" xlink:href=\"#DejaVuSans-116\"/>\n      <use x=\"167.720703\" xlink:href=\"#DejaVuSans-105\"/>\n      <use x=\"195.503906\" xlink:href=\"#DejaVuSans-111\"/>\n      <use x=\"256.685547\" xlink:href=\"#DejaVuSans-58\"/>\n      <use x=\"290.376953\" xlink:href=\"#DejaVuSans-32\"/>\n      <use x=\"322.164062\" xlink:href=\"#DejaVuSans-84\"/>\n      <use x=\"368.498047\" xlink:href=\"#DejaVuSans-114\"/>\n      <use x=\"409.611328\" xlink:href=\"#DejaVuSans-105\"/>\n      <use x=\"437.394531\" xlink:href=\"#DejaVuSans-112\"/>\n      <use x=\"500.871094\" xlink:href=\"#DejaVuSans-108\"/>\n      <use x=\"528.654297\" xlink:href=\"#DejaVuSans-101\"/>\n      <use x=\"590.177734\" xlink:href=\"#DejaVuSans-116\"/>\n      <use x=\"629.386719\" xlink:href=\"#DejaVuSans-115\"/>\n      <use x=\"681.486328\" xlink:href=\"#DejaVuSans-32\"/>\n      <use x=\"713.273438\" xlink:href=\"#DejaVuSans-105\"/>\n      <use x=\"741.056641\" xlink:href=\"#DejaVuSans-110\"/>\n      <use x=\"804.435547\" xlink:href=\"#DejaVuSans-32\"/>\n      <use x=\"836.222656\" xlink:href=\"#DejaVuSans-66\"/>\n      <use x=\"904.826172\" xlink:href=\"#DejaVuSans-111\"/>\n      <use x=\"966.007812\" xlink:href=\"#DejaVuSans-115\"/>\n      <use x=\"1018.107422\" xlink:href=\"#DejaVuSans-111\"/>\n      <use x=\"1079.289062\" xlink:href=\"#DejaVuSans-110\"/>\n      <use x=\"1142.667969\" xlink:href=\"#DejaVuSans-115\"/>\n      <use x=\"1194.767578\" xlink:href=\"#DejaVuSans-47\"/>\n      <use x=\"1228.458984\" xlink:href=\"#DejaVuSans-84\"/>\n      <use x=\"1274.792969\" xlink:href=\"#DejaVuSans-114\"/>\n      <use x=\"1315.90625\" xlink:href=\"#DejaVuSans-105\"/>\n      <use x=\"1343.689453\" xlink:href=\"#DejaVuSans-112\"/>\n      <use x=\"1407.166016\" xlink:href=\"#DejaVuSans-108\"/>\n      <use x=\"1434.949219\" xlink:href=\"#DejaVuSans-101\"/>\n      <use x=\"1496.472656\" xlink:href=\"#DejaVuSans-116\"/>\n      <use x=\"1535.681641\" xlink:href=\"#DejaVuSans-115\"/>\n      <use x=\"1587.78125\" xlink:href=\"#DejaVuSans-32\"/>\n      <use x=\"1619.568359\" xlink:href=\"#DejaVuSans-105\"/>\n      <use x=\"1647.351562\" xlink:href=\"#DejaVuSans-110\"/>\n      <use x=\"1710.730469\" xlink:href=\"#DejaVuSans-32\"/>\n      <use x=\"1742.517578\" xlink:href=\"#DejaVuSans-68\"/>\n      <use x=\"1819.519531\" xlink:href=\"#DejaVuSans-105\"/>\n      <use x=\"1847.302734\" xlink:href=\"#DejaVuSans-115\"/>\n      <use x=\"1899.402344\" xlink:href=\"#DejaVuSans-116\"/>\n      <use x=\"1938.611328\" xlink:href=\"#DejaVuSans-105\"/>\n      <use x=\"1966.394531\" xlink:href=\"#DejaVuSans-110\"/>\n      <use x=\"2029.773438\" xlink:href=\"#DejaVuSans-103\"/>\n      <use x=\"2093.25\" xlink:href=\"#DejaVuSans-117\"/>\n      <use x=\"2156.628906\" xlink:href=\"#DejaVuSans-105\"/>\n      <use x=\"2184.412109\" xlink:href=\"#DejaVuSans-115\"/>\n      <use x=\"2236.511719\" xlink:href=\"#DejaVuSans-104\"/>\n      <use x=\"2299.890625\" xlink:href=\"#DejaVuSans-97\"/>\n      <use x=\"2361.169922\" xlink:href=\"#DejaVuSans-98\"/>\n      <use x=\"2424.646484\" xlink:href=\"#DejaVuSans-108\"/>\n      <use x=\"2452.429688\" xlink:href=\"#DejaVuSans-101\"/>\n     </g>\n    </g>\n   </g>\n   <g id=\"line2d_28\">\n    <path clip-path=\"url(#p1c7af8cd05)\" d=\"M 422.852324 231.730114 \nL 478.191167 227.494779 \nL 533.53001 218.04262 \nL 588.868853 203.138252 \nL 644.207696 143.34787 \nL 699.546539 34.057386 \n\" style=\"fill:none;stroke:#1f77b4;stroke-linecap:square;stroke-width:1.5;\"/>\n   </g>\n   <g id=\"patch_8\">\n    <path d=\"M 409.017614 241.61375 \nL 409.017614 24.17375 \n\" style=\"fill:none;stroke:#000000;stroke-linecap:square;stroke-linejoin:miter;stroke-width:0.8;\"/>\n   </g>\n   <g id=\"patch_9\">\n    <path d=\"M 713.38125 241.61375 \nL 713.38125 24.17375 \n\" style=\"fill:none;stroke:#000000;stroke-linecap:square;stroke-linejoin:miter;stroke-width:0.8;\"/>\n   </g>\n   <g id=\"patch_10\">\n    <path d=\"M 409.017614 241.61375 \nL 713.38125 241.61375 \n\" style=\"fill:none;stroke:#000000;stroke-linecap:square;stroke-linejoin:miter;stroke-width:0.8;\"/>\n   </g>\n   <g id=\"patch_11\">\n    <path d=\"M 409.017614 24.17375 \nL 713.38125 24.17375 \n\" style=\"fill:none;stroke:#000000;stroke-linecap:square;stroke-linejoin:miter;stroke-width:0.8;\"/>\n   </g>\n  </g>\n </g>\n <defs>\n  <clipPath id=\"pb09bd67fd8\">\n   <rect height=\"217.44\" width=\"304.363636\" x=\"43.78125\" y=\"24.17375\"/>\n  </clipPath>\n  <clipPath id=\"p1c7af8cd05\">\n   <rect height=\"217.44\" width=\"304.363636\" x=\"409.017614\" y=\"24.17375\"/>\n  </clipPath>\n </defs>\n</svg>\n",
      "image/png": "[encoded data removed]"
     },
     "metadata": {
      "needs_background": "light"
     }
    }
   ],
   "source": [
    "fig = plt.figure(figsize=(12,4))\n",
    "ax1, ax2 = [fig.add_subplot(1,2,i+1) for i in range(2)]\n",
    "\n",
    "ax1.plot(xx, dist_yy)\n",
    "ax1.plot(xx, bos_yy)\n",
    "ax1.set_xlabel(\"Number of dice M\")\n",
    "ax1.set_ylabel(\"Percentage of Triplets\")\n",
    "\n",
    "ax2.plot(xx, bos_yy/dist_yy)\n",
    "ax2.set_xlabel(\"Number of dice M\")\n",
    "ax2.set_ylabel(\"Ratio: Triplets in Bosons/Triplets in Distinguishable\")\n",
    "\n",
    "plt.show()"
   ]
  },
  {
   "cell_type": "code",
   "execution_count": null,
   "metadata": {},
   "outputs": [],
   "source": []
  },
  {
   "cell_type": "code",
   "execution_count": null,
   "metadata": {},
   "outputs": [],
   "source": []
  }
 ],
 "metadata": {
  "kernelspec": {
   "name": "python3",
   "display_name": "Python 3.8.5 64-bit ('p38pt': conda)",
   "metadata": {
    "interpreter": {
     "hash": "b4390f39293f22f1fbf45ef65bc993a0b58c4f37967ba01549d2e9419e384d56"
    }
   }
  },
  "language_info": {
   "codemirror_mode": {
    "name": "ipython",
    "version": 3
   },
   "file_extension": ".py",
   "mimetype": "text/x-python",
   "name": "python",
   "nbconvert_exporter": "python",
   "pygments_lexer": "ipython3",
   "version": "3.8.5-final"
  }
 },
 "nbformat": 4,
 "nbformat_minor": 2
}